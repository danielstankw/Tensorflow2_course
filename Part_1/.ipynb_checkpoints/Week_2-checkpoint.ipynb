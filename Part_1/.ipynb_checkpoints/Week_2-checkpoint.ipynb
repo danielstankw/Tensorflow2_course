{
 "cells": [
  {
   "cell_type": "code",
   "execution_count": 1,
   "id": "c02a4019",
   "metadata": {},
   "outputs": [],
   "source": [
    "import tensorflow as tf\n",
    "import numpy as np\n",
    "import matplotlib.pyplot as plt"
   ]
  },
  {
   "cell_type": "code",
   "execution_count": 2,
   "id": "6ecff7f4",
   "metadata": {},
   "outputs": [],
   "source": [
    "# download MNIST set\n",
    "mnist = tf.keras.datasets.fashion_mnist"
   ]
  },
  {
   "cell_type": "code",
   "execution_count": 3,
   "id": "a9909568",
   "metadata": {},
   "outputs": [],
   "source": [
    "(training_images, training_labels), (test_images, test_labels) = mnist.load_data()"
   ]
  },
  {
   "cell_type": "code",
   "execution_count": 4,
   "id": "eceda768",
   "metadata": {},
   "outputs": [
    {
     "data": {
      "text/plain": [
       "<matplotlib.image.AxesImage at 0x1a7de9fbfa0>"
      ]
     },
     "execution_count": 4,
     "metadata": {},
     "output_type": "execute_result"
    },
    {
     "data": {
      "image/png": "[encoded data removed]",
      "text/plain": [
       "<Figure size 432x288 with 1 Axes>"
      ]
     },
     "metadata": {
      "needs_background": "light"
     },
     "output_type": "display_data"
    }
   ],
   "source": [
    "plt.imshow(training_images[1])\n",
    "# print(training_labels[0])\n",
    "# print(training_images[0])"
   ]
  },
  {
   "cell_type": "markdown",
   "id": "b2393882",
   "metadata": {},
   "source": [
    "ALl the values are between 0 and 255 so we will normalize them to [0,1]"
   ]
  },
  {
   "cell_type": "code",
   "execution_count": 5,
   "id": "69ef9b2a",
   "metadata": {},
   "outputs": [],
   "source": [
    "training_images  = training_images / 255.0\n",
    "test_images = test_images / 255.0"
   ]
  },
  {
   "cell_type": "code",
   "execution_count": 6,
   "id": "3cd9529c",
   "metadata": {
    "scrolled": true
   },
   "outputs": [],
   "source": [
    "class CustomCallback(tf.keras.callbacks.Callback):\n",
    "    '''Custom Callback used for termination of training when accuracy>80%'''\n",
    "   \n",
    "    def __init__(self, accuracy):\n",
    "        super(CustomCallback, self).__init__()\n",
    "        self.accuracy = accuracy/100\n",
    "    \n",
    "    def on_epoch_end(self, epoch, logs={}):\n",
    "        if logs.get('accuracy') > self.accuracy:\n",
    "            print(f'Reached {self.accuracy*100} % accuracy!, Training stopped')\n",
    "            self.model.stop_training = True"
   ]
  },
  {
   "cell_type": "code",
   "execution_count": 7,
   "id": "e5ff8b65",
   "metadata": {},
   "outputs": [],
   "source": [
    "from keras.layers import Flatten, Dense"
   ]
  },
  {
   "cell_type": "code",
   "execution_count": 8,
   "id": "6290b0e2",
   "metadata": {},
   "outputs": [],
   "source": [
    "model = tf.keras.Sequential()\n",
    "model.add(Flatten()) # turning matrix in a flat array\n",
    "model.add(Dense(512, activation=tf.nn.relu))\n",
    "model.add(Dense(10, activation=tf.nn.softmax)) # 10 classes outputs 1 or 0"
   ]
  },
  {
   "cell_type": "code",
   "execution_count": 9,
   "id": "cb1dc09a",
   "metadata": {},
   "outputs": [],
   "source": [
    "callback=CustomCallback(accuracy=90)"
   ]
  },
  {
   "cell_type": "code",
   "execution_count": 10,
   "id": "5d492bf8",
   "metadata": {},
   "outputs": [
    {
     "name": "stdout",
     "output_type": "stream",
     "text": [
      "Epoch 1/15\n",
      "1875/1875 [==============================] - 6s 3ms/step - loss: 0.4771 - accuracy: 0.8289\n",
      "Epoch 2/15\n",
      "1875/1875 [==============================] - 4s 2ms/step - loss: 0.3599 - accuracy: 0.8680\n",
      "Epoch 3/15\n",
      "1875/1875 [==============================] - 4s 2ms/step - loss: 0.3225 - accuracy: 0.8823\n",
      "Epoch 4/15\n",
      "1875/1875 [==============================] - 4s 2ms/step - loss: 0.2983 - accuracy: 0.8889\n",
      "Epoch 5/15\n",
      "1875/1875 [==============================] - 4s 2ms/step - loss: 0.2835 - accuracy: 0.8938\n",
      "Epoch 6/15\n",
      "1875/1875 [==============================] - 4s 2ms/step - loss: 0.2671 - accuracy: 0.8999\n",
      "Epoch 7/15\n",
      "1875/1875 [==============================] - 4s 2ms/step - loss: 0.2545 - accuracy: 0.9049\n",
      "Reached 90.0 % accuracy!, Training stopped\n"
     ]
    },
    {
     "data": {
      "text/plain": [
       "<tensorflow.python.keras.callbacks.History at 0x1a7dc8e7be0>"
      ]
     },
     "execution_count": 10,
     "metadata": {},
     "output_type": "execute_result"
    }
   ],
   "source": [
    "model.compile(optimizer = tf.optimizers.Adam(),\n",
    "              loss = 'sparse_categorical_crossentropy',\n",
    "              metrics=['accuracy'])\n",
    "\n",
    "model.fit(training_images, training_labels, epochs=15, callbacks=[callback])"
   ]
  },
  {
   "cell_type": "code",
   "execution_count": 11,
   "id": "db59862d",
   "metadata": {},
   "outputs": [
    {
     "name": "stdout",
     "output_type": "stream",
     "text": [
      "313/313 [==============================] - 1s 2ms/step - loss: 0.3421 - accuracy: 0.8796\n"
     ]
    },
    {
     "data": {
      "text/plain": [
       "[0.3420838713645935, 0.8795999884605408]"
      ]
     },
     "execution_count": 11,
     "metadata": {},
     "output_type": "execute_result"
    }
   ],
   "source": [
    "model.evaluate(test_images, test_labels)"
   ]
  },
  {
   "cell_type": "markdown",
   "id": "6b74088e",
   "metadata": {},
   "source": [
    "#### Exercise 1"
   ]
  },
  {
   "cell_type": "markdown",
   "id": "e280e480",
   "metadata": {},
   "source": [
    "We can make a prediction and as a result we obtain the probability of the test_image to belong to one of the 10 classes"
   ]
  },
  {
   "cell_type": "code",
   "execution_count": 12,
   "id": "567c0718",
   "metadata": {},
   "outputs": [
    {
     "name": "stdout",
     "output_type": "stream",
     "text": [
      "[2.7462116e-07 3.3246972e-09 3.1540461e-09 2.4530729e-09 1.3138497e-07\n",
      " 2.0543128e-02 1.6854305e-07 9.0034746e-02 1.6937224e-07 8.8942140e-01]\n"
     ]
    }
   ],
   "source": [
    "classifications = model.predict(test_images)\n",
    "\n",
    "print(classifications[0])"
   ]
  },
  {
   "cell_type": "code",
   "execution_count": 13,
   "id": "50be5876",
   "metadata": {},
   "outputs": [
    {
     "name": "stdout",
     "output_type": "stream",
     "text": [
      "9\n"
     ]
    }
   ],
   "source": [
    "print(test_labels[0])"
   ]
  }
 ],
 "metadata": {
  "kernelspec": {
   "display_name": "Python 3 (ipykernel)",
   "language": "python",
   "name": "python3"
  },
  "language_info": {
   "codemirror_mode": {
    "name": "ipython",
    "version": 3
   },
   "file_extension": ".py",
   "mimetype": "text/x-python",
   "name": "python",
   "nbconvert_exporter": "python",
   "pygments_lexer": "ipython3",
   "version": "3.8.11"
  }
 },
 "nbformat": 4,
 "nbformat_minor": 5
}
