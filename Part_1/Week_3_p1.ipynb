{
 "cells": [
  {
   "cell_type": "code",
   "execution_count": 60,
   "id": "70aa2c21",
   "metadata": {},
   "outputs": [],
   "source": [
    "import tensorflow as tf\n",
    "import matplotlib.pyplot as plt"
   ]
  },
  {
   "cell_type": "code",
   "execution_count": 36,
   "id": "2d42ae1a",
   "metadata": {},
   "outputs": [
    {
     "name": "stdout",
     "output_type": "stream",
     "text": [
      "Epoch 1/5\n",
      "1875/1875 [==============================] - 6s 3ms/step - loss: 0.5104 - accuracy: 0.8213\n",
      "Epoch 2/5\n",
      "1875/1875 [==============================] - 5s 3ms/step - loss: 0.3763 - accuracy: 0.8634\n",
      "Epoch 3/5\n",
      "1875/1875 [==============================] - 5s 3ms/step - loss: 0.3399 - accuracy: 0.8751\n",
      "Epoch 4/5\n",
      "1875/1875 [==============================] - 5s 3ms/step - loss: 0.3155 - accuracy: 0.8838\n",
      "Epoch 5/5\n",
      "1875/1875 [==============================] - 5s 3ms/step - loss: 0.2963 - accuracy: 0.8910\n",
      "313/313 [==============================] - 1s 2ms/step - loss: 0.3580 - accuracy: 0.8709\n"
     ]
    }
   ],
   "source": [
    "mnist = tf.keras.datasets.fashion_mnist\n",
    "(training_images, training_labels), (test_images, test_labels) = mnist.load_data()\n",
    "training_images=training_images / 255.0\n",
    "test_images=test_images / 255.0\n",
    "\n",
    "\n",
    "model = tf.keras.models.Sequential([\n",
    "  tf.keras.layers.Flatten(),\n",
    "  tf.keras.layers.Dense(128, activation=tf.nn.relu),\n",
    "  tf.keras.layers.Dense(10, activation=tf.nn.softmax)\n",
    "])\n",
    "model.compile(optimizer='adam', loss='sparse_categorical_crossentropy', metrics=['accuracy'])\n",
    "model.fit(training_images, training_labels, epochs=5)\n",
    "\n",
    "test_loss = model.evaluate(test_images, test_labels)"
   ]
  },
  {
   "cell_type": "code",
   "execution_count": 37,
   "id": "ac3937e4",
   "metadata": {},
   "outputs": [
    {
     "name": "stdout",
     "output_type": "stream",
     "text": [
      "[0.3579568862915039, 0.8708999752998352]\n"
     ]
    }
   ],
   "source": [
    "# Returns the loss value & metrics values for the model in test mode.\n",
    "print(test_loss)"
   ]
  },
  {
   "cell_type": "markdown",
   "id": "8ba8135d",
   "metadata": {},
   "source": [
    "#### Using CNN"
   ]
  },
  {
   "cell_type": "code",
   "execution_count": 55,
   "id": "0a91fdcc",
   "metadata": {},
   "outputs": [],
   "source": [
    "mnist = tf.keras.datasets.fashion_mnist\n",
    "(training_images, training_labels), (test_images, test_labels) = mnist.load_data()"
   ]
  },
  {
   "cell_type": "code",
   "execution_count": 63,
   "id": "42a0494d",
   "metadata": {},
   "outputs": [
    {
     "data": {
      "text/plain": [
       "<matplotlib.image.AxesImage at 0x22f65c10730>"
      ]
     },
     "execution_count": 63,
     "metadata": {},
     "output_type": "execute_result"
    },
    {
     "data": {
      "image/png": "[encoded data removed]",
      "text/plain": [
       "<Figure size 432x288 with 1 Axes>"
      ]
     },
     "metadata": {
      "needs_background": "light"
     },
     "output_type": "display_data"
    }
   ],
   "source": [
    "plt.imshow(training_images[0])"
   ]
  },
  {
   "cell_type": "code",
   "execution_count": 64,
   "id": "b6c89ce6",
   "metadata": {},
   "outputs": [
    {
     "name": "stdout",
     "output_type": "stream",
     "text": [
      "Train images shape:(60000, 28, 28, 1)\n",
      "Test images shape:(10000, 28, 28, 1)\n"
     ]
    }
   ],
   "source": [
    "print(f\"Train images shape:{training_images.shape}\")\n",
    "print(f\"Test images shape:{test_images.shape}\")"
   ]
  },
  {
   "cell_type": "markdown",
   "id": "e0c6ec9f",
   "metadata": {},
   "source": [
    "We need to add channel specyfing type of image: greyscale or RGB"
   ]
  },
  {
   "cell_type": "code",
   "execution_count": 65,
   "id": "58fba199",
   "metadata": {},
   "outputs": [],
   "source": [
    "training_images= training_images.reshape(-1,28,28,1)\n",
    "test_images= test_images.reshape(-1,28,28,1)"
   ]
  },
  {
   "cell_type": "code",
   "execution_count": 66,
   "id": "afaedda6",
   "metadata": {},
   "outputs": [
    {
     "name": "stdout",
     "output_type": "stream",
     "text": [
      "Train images shape:(60000, 28, 28, 1)\n",
      "Test images shape:(10000, 28, 28, 1)\n"
     ]
    }
   ],
   "source": [
    "print(f\"Train images shape:{training_images.shape}\")\n",
    "print(f\"Test images shape:{test_images.shape}\")"
   ]
  },
  {
   "cell_type": "code",
   "execution_count": 67,
   "id": "02e7c436",
   "metadata": {},
   "outputs": [],
   "source": [
    "# normalizing\n",
    "training_images = training_images/ 255.0\n",
    "test_images = test_images/ 255.0"
   ]
  },
  {
   "cell_type": "code",
   "execution_count": 68,
   "id": "a1d5cde8",
   "metadata": {},
   "outputs": [],
   "source": [
    "from keras import Sequential\n",
    "from keras.layers import Conv2D, MaxPooling2D, Flatten, Dense"
   ]
  },
  {
   "cell_type": "markdown",
   "id": "5765ba1e",
   "metadata": {},
   "source": [
    "https://www.pyimagesearch.com/2018/12/31/keras-conv2d-and-convolutional-layers/\n",
    "\n",
    "`Conv2D`: recommended to use powers of 2. The deeper into CNN the more filters we can use <br>\n",
    "`kernel_size`: filter size/ must be odd integer\n",
    "`maxpooling`: designed to compress the image while maintaining the content of the features what were highlighted by convolution. Using `(2,2)` MaxPooling we create a square that overlaps the image and picks largest out of 4."
   ]
  },
  {
   "cell_type": "code",
   "execution_count": 71,
   "id": "3f0855fa",
   "metadata": {},
   "outputs": [],
   "source": [
    "model = Sequential()\n",
    "\n",
    "# add 2 Conv layers with maxpooling\n",
    "model.add(Conv2D(filters=32, \n",
    "                 kernel_size=(3,3), \n",
    "                 activation='relu', \n",
    "                 input_shape=(28,28,1)))\n",
    "model.add(MaxPooling2D(pool_size=(2,2)))\n",
    "          \n",
    "model.add(Conv2D(filters=64, \n",
    "                 kernel_size=(3,3), \n",
    "                 activation='relu'))\n",
    "model.add(MaxPooling2D(pool_size=(2,2)))# last 3 layers are same as beforehand.\n",
    "\n",
    "model.add(Flatten()) # flatten matrix before feeding into hidden layer\n",
    "model.add(Dense(128, activation='relu')) # hidden layer\n",
    "model.add(Dense(10, activation='softmax')) # output for 10 classes"
   ]
  },
  {
   "cell_type": "code",
   "execution_count": 72,
   "id": "dd065462",
   "metadata": {
    "scrolled": false
   },
   "outputs": [
    {
     "name": "stdout",
     "output_type": "stream",
     "text": [
      "Model: \"sequential_7\"\n",
      "_________________________________________________________________\n",
      "Layer (type)                 Output Shape              Param #   \n",
      "=================================================================\n",
      "conv2d_10 (Conv2D)           (None, 26, 26, 32)        320       \n",
      "_________________________________________________________________\n",
      "max_pooling2d_7 (MaxPooling2 (None, 13, 13, 32)        0         \n",
      "_________________________________________________________________\n",
      "conv2d_11 (Conv2D)           (None, 11, 11, 64)        18496     \n",
      "_________________________________________________________________\n",
      "max_pooling2d_8 (MaxPooling2 (None, 5, 5, 64)          0         \n",
      "_________________________________________________________________\n",
      "flatten_3 (Flatten)          (None, 1600)              0         \n",
      "_________________________________________________________________\n",
      "dense_6 (Dense)              (None, 128)               204928    \n",
      "_________________________________________________________________\n",
      "dense_7 (Dense)              (None, 10)                1290      \n",
      "=================================================================\n",
      "Total params: 225,034\n",
      "Trainable params: 225,034\n",
      "Non-trainable params: 0\n",
      "_________________________________________________________________\n"
     ]
    }
   ],
   "source": [
    "model.summary()"
   ]
  },
  {
   "cell_type": "markdown",
   "id": "5274437b",
   "metadata": {},
   "source": [
    "`(None, 26, 26, 32) `: we started with 28x28 however due to filter size being 3x3 the edges of the image are skipped ex. we cant look at pixel [1,1] instead we look at [2,2]because the edge pixels dont have naighbors from all of the sides <br>\n",
    "`(None, 13, 13, 32)` Using maxpooling of size (2x2) creates a 2x2 matrix that overlaps with image step by step and pools max value out of each of the 4 pixels and thus it halves the number of vertical and horizontal pixels, thus reducing imageby 25%"
   ]
  },
  {
   "cell_type": "code",
   "execution_count": 73,
   "id": "17546c16",
   "metadata": {},
   "outputs": [],
   "source": [
    "model.compile(optimizer='adam', \n",
    "              loss='sparse_categorical_crossentropy', \n",
    "              metrics=['accuracy'])"
   ]
  },
  {
   "cell_type": "code",
   "execution_count": 74,
   "id": "2c50eb8b",
   "metadata": {},
   "outputs": [
    {
     "name": "stdout",
     "output_type": "stream",
     "text": [
      "Epoch 1/5\n",
      "1875/1875 [==============================] - 96s 28ms/step - loss: 0.6096 - accuracy: 0.7844\n",
      "Epoch 2/5\n",
      "1875/1875 [==============================] - 52s 28ms/step - loss: 0.3157 - accuracy: 0.8828\n",
      "Epoch 3/5\n",
      "1875/1875 [==============================] - 52s 28ms/step - loss: 0.2606 - accuracy: 0.9015\n",
      "Epoch 4/5\n",
      "1875/1875 [==============================] - 52s 28ms/step - loss: 0.2230 - accuracy: 0.91590s - loss: 0.2230 - accuracy\n",
      "Epoch 5/5\n",
      "1875/1875 [==============================] - 52s 28ms/step - loss: 0.1923 - accuracy: 0.9280\n",
      "313/313 [==============================] - 5s 10ms/step - loss: 0.2528 - accuracy: 0.9096\n"
     ]
    }
   ],
   "source": [
    "model.fit(training_images, training_labels, epochs=5)\n",
    "test_loss = model.evaluate(test_images, test_labels)"
   ]
  },
  {
   "cell_type": "code",
   "execution_count": 75,
   "id": "089cdd76",
   "metadata": {},
   "outputs": [
    {
     "data": {
      "text/plain": [
       "[0.25279104709625244, 0.909600019454956]"
      ]
     },
     "execution_count": 75,
     "metadata": {},
     "output_type": "execute_result"
    }
   ],
   "source": [
    "test_loss"
   ]
  },
  {
   "cell_type": "markdown",
   "id": "5ffad659",
   "metadata": {},
   "source": [
    "### Visualizing Convolutions and Pooling"
   ]
  },
  {
   "cell_type": "code",
   "execution_count": 80,
   "id": "44985c2c",
   "metadata": {
    "scrolled": true
   },
   "outputs": [
    {
     "name": "stdout",
     "output_type": "stream",
     "text": [
      "[9 2 1 1 6 1 4 6 5 7 4 5 7 3 4 1 2 4 8 0 2 5 7 9 1 4 6 0 9 3 8 8 3 3 8 0 7\n",
      " 5 7 9 6 1 3 7 6 7 2 1 2 2 4 4 5 8 2 2 8 4 8 0 7 7 8 5 1 1 2 3 9 8 7 0 2 6\n",
      " 2 3 1 2 8 4 1 8 5 9 5 0 3 2 0 6 5 3 6 7 1 8 0 1 4 2]\n"
     ]
    }
   ],
   "source": [
    "print(test_labels[:100])"
   ]
  },
  {
   "cell_type": "code",
   "execution_count": 85,
   "id": "a1163b07",
   "metadata": {},
   "outputs": [],
   "source": [
    "# lets look for indicies of test_label that match same class ex.9\n",
    "indices = [i for i, x in enumerate(test_labels[:100]) if x == 9]"
   ]
  },
  {
   "cell_type": "code",
   "execution_count": 86,
   "id": "3e7c45cb",
   "metadata": {
    "scrolled": true
   },
   "outputs": [
    {
     "data": {
      "text/plain": [
       "[0, 23, 28, 39, 68, 83]"
      ]
     },
     "execution_count": 86,
     "metadata": {},
     "output_type": "execute_result"
    }
   ],
   "source": [
    "indices"
   ]
  },
  {
   "cell_type": "markdown",
   "id": "b897dfc7",
   "metadata": {},
   "source": [
    "We now wish to visualize the effect of our filters on the images. We can see the effect of first convolution->pooling->convolution->pooling"
   ]
  },
  {
   "cell_type": "code",
   "execution_count": 143,
   "id": "e9b80392",
   "metadata": {},
   "outputs": [
    {
     "data": {
      "image/png": "[encoded data removed]",
      "text/plain": [
       "<Figure size 432x288 with 12 Axes>"
      ]
     },
     "metadata": {
      "needs_background": "light"
     },
     "output_type": "display_data"
    }
   ],
   "source": [
    "f, axarr = plt.subplots(3,4)\n",
    "FIRST_IMAGE=0\n",
    "SECOND_IMAGE=23\n",
    "THIRD_IMAGE=28\n",
    "CONVOLUTION_NUMBER = 1\n",
    "from tensorflow.keras import models\n",
    "layer_outputs = [layer.output for layer in model.layers]\n",
    "activation_model = tf.keras.models.Model(inputs = model.input, outputs = layer_outputs)\n",
    "for x in range(0,4):\n",
    "    f1 = activation_model.predict(test_images[FIRST_IMAGE].reshape(1, 28, 28, 1))[x]\n",
    "    axarr[0,x].imshow(f1[0, : , :, CONVOLUTION_NUMBER], cmap='inferno')\n",
    "    axarr[0,x].grid(False)\n",
    "    f2 = activation_model.predict(test_images[SECOND_IMAGE].reshape(1, 28, 28, 1))[x]\n",
    "    axarr[1,x].imshow(f2[0, : , :, CONVOLUTION_NUMBER], cmap='inferno')\n",
    "    axarr[1,x].grid(False)\n",
    "    f3 = activation_model.predict(test_images[THIRD_IMAGE].reshape(1, 28, 28, 1))[x]\n",
    "    axarr[2,x].imshow(f3[0, : , :, CONVOLUTION_NUMBER], cmap='inferno')\n",
    "    axarr[2,x].grid(False)"
   ]
  },
  {
   "cell_type": "markdown",
   "id": "cc7e8327",
   "metadata": {},
   "source": [
    "Detects same features"
   ]
  }
 ],
 "metadata": {
  "kernelspec": {
   "display_name": "Python 3 (ipykernel)",
   "language": "python",
   "name": "python3"
  },
  "language_info": {
   "codemirror_mode": {
    "name": "ipython",
    "version": 3
   },
   "file_extension": ".py",
   "mimetype": "text/x-python",
   "name": "python",
   "nbconvert_exporter": "python",
   "pygments_lexer": "ipython3",
   "version": "3.8.11"
  }
 },
 "nbformat": 4,
 "nbformat_minor": 5
}
